{
 "cells": [
  {
   "cell_type": "markdown",
   "id": "a16fee72",
   "metadata": {},
   "source": [
    "# DVA_LAB_01"
   ]
  },
  {
   "cell_type": "markdown",
   "id": "4ec0d8a8",
   "metadata": {},
   "source": [
    "### NAME : RETHINAGIRI.G"
   ]
  },
  {
   "cell_type": "markdown",
   "id": "82e84b10",
   "metadata": {},
   "source": [
    "### ROLL_NO : 225229130"
   ]
  },
  {
   "cell_type": "markdown",
   "id": "09d4528e",
   "metadata": {},
   "source": [
    "# Red Wine Quality Data Analytics using NumPy Part-I"
   ]
  },
  {
   "cell_type": "markdown",
   "id": "5e938cfa",
   "metadata": {},
   "source": [
    "## "
   ]
  },
  {
   "cell_type": "code",
   "execution_count": 1,
   "id": "c7541446",
   "metadata": {},
   "outputs": [],
   "source": [
    "import numpy as num"
   ]
  },
  {
   "cell_type": "code",
   "execution_count": 2,
   "id": "6bb352cc",
   "metadata": {},
   "outputs": [
    {
     "name": "stdout",
     "output_type": "stream",
     "text": [
      "[[ 7.4    0.7    0.    ...  0.56   9.4    5.   ]\n",
      " [ 7.8    0.88   0.    ...  0.68   9.8    5.   ]\n",
      " [ 7.8    0.76   0.04  ...  0.65   9.8    5.   ]\n",
      " ...\n",
      " [ 6.3    0.51   0.13  ...  0.75  11.     6.   ]\n",
      " [ 5.9    0.645  0.12  ...  0.71  10.2    5.   ]\n",
      " [ 6.     0.31   0.47  ...  0.66  11.     6.   ]]\n"
     ]
    }
   ],
   "source": [
    "#Read  the Data\n",
    "\n",
    "w=num.genfromtxt(\"winequality-red.csv\",delimiter=\";\",skip_header=1)\n",
    "print(w)"
   ]
  },
  {
   "cell_type": "code",
   "execution_count": 3,
   "id": "8357d986",
   "metadata": {},
   "outputs": [
    {
     "data": {
      "text/plain": [
       "19188"
      ]
     },
     "execution_count": 3,
     "metadata": {},
     "output_type": "execute_result"
    }
   ],
   "source": [
    "#size of the data\n",
    "\n",
    "si=w.size\n",
    "si"
   ]
  },
  {
   "cell_type": "code",
   "execution_count": 4,
   "id": "98c1349e",
   "metadata": {},
   "outputs": [
    {
     "name": "stdout",
     "output_type": "stream",
     "text": [
      "(1599, 12)\n",
      "rows= 1599\n"
     ]
    }
   ],
   "source": [
    "#shape of the data\n",
    "\n",
    "print(w.shape)\n",
    "print(\"rows=\",w.shape[0])"
   ]
  },
  {
   "cell_type": "code",
   "execution_count": 5,
   "id": "7767f247",
   "metadata": {},
   "outputs": [
    {
     "data": {
      "text/plain": [
       "2"
      ]
     },
     "execution_count": 5,
     "metadata": {},
     "output_type": "execute_result"
    }
   ],
   "source": [
    "#Dimention\n",
    "\n",
    "w.ndim"
   ]
  },
  {
   "cell_type": "code",
   "execution_count": 6,
   "id": "fa55c93d",
   "metadata": {},
   "outputs": [
    {
     "name": "stdout",
     "output_type": "stream",
     "text": [
      "<class 'numpy.ndarray'>\n"
     ]
    }
   ],
   "source": [
    "#Type Of the Data\n",
    "\n",
    "print(type(w))"
   ]
  },
  {
   "cell_type": "code",
   "execution_count": 7,
   "id": "f718c970",
   "metadata": {},
   "outputs": [
    {
     "data": {
      "text/plain": [
       "dtype('float64')"
      ]
     },
     "execution_count": 7,
     "metadata": {},
     "output_type": "execute_result"
    }
   ],
   "source": [
    "#Datatype\n",
    "\n",
    "w.dtype"
   ]
  },
  {
   "cell_type": "code",
   "execution_count": 8,
   "id": "280a269a",
   "metadata": {},
   "outputs": [
    {
     "name": "stdout",
     "output_type": "stream",
     "text": [
      "[[7.400e+00 7.000e-01 0.000e+00 1.900e+00 7.600e-02 1.100e+01 3.400e+01\n",
      "  9.978e-01 3.510e+00 5.600e-01 9.400e+00 5.000e+00]\n",
      " [7.800e+00 8.800e-01 0.000e+00 2.600e+00 9.800e-02 2.500e+01 6.700e+01\n",
      "  9.968e-01 3.200e+00 6.800e-01 9.800e+00 5.000e+00]\n",
      " [7.800e+00 7.600e-01 4.000e-02 2.300e+00 9.200e-02 1.500e+01 5.400e+01\n",
      "  9.970e-01 3.260e+00 6.500e-01 9.800e+00 5.000e+00]\n",
      " [1.120e+01 2.800e-01 5.600e-01 1.900e+00 7.500e-02 1.700e+01 6.000e+01\n",
      "  9.980e-01 3.160e+00 5.800e-01 9.800e+00 6.000e+00]\n",
      " [7.400e+00 7.000e-01 0.000e+00 1.900e+00 7.600e-02 1.100e+01 3.400e+01\n",
      "  9.978e-01 3.510e+00 5.600e-01 9.400e+00 5.000e+00]]\n"
     ]
    }
   ],
   "source": [
    "#top 5 rows\n",
    "\n",
    "top=w[:5,:]\n",
    "print(top)"
   ]
  },
  {
   "cell_type": "code",
   "execution_count": 9,
   "id": "21caba90",
   "metadata": {},
   "outputs": [
    {
     "data": {
      "text/plain": [
       "2.3"
      ]
     },
     "execution_count": 9,
     "metadata": {},
     "output_type": "execute_result"
    }
   ],
   "source": [
    "# 3rd row,4th column of Data\n",
    "\n",
    "w[2,3]"
   ]
  },
  {
   "cell_type": "code",
   "execution_count": 10,
   "id": "a4fa74ab",
   "metadata": {},
   "outputs": [
    {
     "data": {
      "text/plain": [
       "array([1.9, 2.6, 2.3])"
      ]
     },
     "execution_count": 10,
     "metadata": {},
     "output_type": "execute_result"
    }
   ],
   "source": [
    "#First 3item in 4th column\n",
    "\n",
    "w[0:3,3]"
   ]
  },
  {
   "cell_type": "code",
   "execution_count": 12,
   "id": "c8d5d253",
   "metadata": {},
   "outputs": [
    {
     "data": {
      "text/plain": [
       "array([7.4, 7.8, 7.8, ..., 6.3, 5.9, 6. ])"
      ]
     },
     "execution_count": 12,
     "metadata": {},
     "output_type": "execute_result"
    }
   ],
   "source": [
    "#1st column\n",
    "\n",
    "w[0:,0]"
   ]
  },
  {
   "cell_type": "code",
   "execution_count": 13,
   "id": "6183633c",
   "metadata": {},
   "outputs": [
    {
     "data": {
      "text/plain": [
       "array([ 7.8   ,  0.88  ,  0.    ,  2.6   ,  0.098 , 25.    , 67.    ,\n",
       "        0.9968,  3.2   ,  0.68  ,  9.8   ,  5.    ])"
      ]
     },
     "execution_count": 13,
     "metadata": {},
     "output_type": "execute_result"
    }
   ],
   "source": [
    "#2nd row\n",
    "\n",
    "w[1,0:]"
   ]
  },
  {
   "cell_type": "code",
   "execution_count": 14,
   "id": "b3b6916e",
   "metadata": {},
   "outputs": [
    {
     "data": {
      "text/plain": [
       "array([0.098, 0.092, 0.075])"
      ]
     },
     "execution_count": 14,
     "metadata": {},
     "output_type": "execute_result"
    }
   ],
   "source": [
    "# rows 1 to 3 and 5th column\n",
    "\n",
    "w[1:4,4]"
   ]
  },
  {
   "cell_type": "code",
   "execution_count": 15,
   "id": "713f7c69",
   "metadata": {},
   "outputs": [
    {
     "data": {
      "text/plain": [
       "array([[ 7.4  ,  0.7  ,  0.   , ...,  0.56 ,  9.4  ,  5.   ],\n",
       "       [ 7.8  ,  0.88 ,  0.   , ...,  0.68 ,  9.8  ,  5.   ],\n",
       "       [ 7.8  ,  0.76 ,  0.04 , ...,  0.65 ,  9.8  ,  5.   ],\n",
       "       ...,\n",
       "       [ 6.3  ,  0.51 ,  0.13 , ...,  0.75 , 11.   ,  6.   ],\n",
       "       [ 5.9  ,  0.645,  0.12 , ...,  0.71 , 10.2  ,  5.   ],\n",
       "       [ 6.   ,  0.31 ,  0.47 , ...,  0.66 , 11.   ,  6.   ]])"
      ]
     },
     "execution_count": 15,
     "metadata": {},
     "output_type": "execute_result"
    }
   ],
   "source": [
    "#Entire Data\n",
    "\n",
    "w"
   ]
  },
  {
   "cell_type": "code",
   "execution_count": 16,
   "id": "d1b65de2",
   "metadata": {},
   "outputs": [
    {
     "name": "stdout",
     "output_type": "stream",
     "text": [
      "7.4\n",
      "100\n"
     ]
    }
   ],
   "source": [
    "#chance 1st Value to 100\n",
    "\n",
    "print(w[0,0])\n",
    "r=w[0,0]=100\n",
    "print(r)"
   ]
  },
  {
   "cell_type": "code",
   "execution_count": 17,
   "id": "4d6e0ffd",
   "metadata": {},
   "outputs": [
    {
     "data": {
      "text/plain": [
       "7.4"
      ]
     },
     "execution_count": 17,
     "metadata": {},
     "output_type": "execute_result"
    }
   ],
   "source": [
    "#Change it back to 7.4\n",
    "\n",
    "r=7.4\n",
    "r"
   ]
  },
  {
   "cell_type": "markdown",
   "id": "898e4f1f",
   "metadata": {},
   "source": [
    "## 1-Dimentional Numpy Arrays"
   ]
  },
  {
   "cell_type": "code",
   "execution_count": 18,
   "id": "7e46d120",
   "metadata": {},
   "outputs": [
    {
     "name": "stdout",
     "output_type": "stream",
     "text": [
      "[11.2    0.28   0.56   1.9    0.075 17.    60.     0.998  3.16   0.58\n",
      "  9.8    6.   ]\n"
     ]
    }
   ],
   "source": [
    "#select 4th row\n",
    "\n",
    "fr=w[3,]\n",
    "print(fr)"
   ]
  },
  {
   "cell_type": "code",
   "execution_count": 19,
   "id": "dff0673f",
   "metadata": {},
   "outputs": [
    {
     "data": {
      "text/plain": [
       "0.28"
      ]
     },
     "execution_count": 19,
     "metadata": {},
     "output_type": "execute_result"
    }
   ],
   "source": [
    "#show 2nd Value\n",
    "\n",
    "fr[1]"
   ]
  },
  {
   "cell_type": "code",
   "execution_count": 20,
   "id": "53fd8d50",
   "metadata": {},
   "outputs": [
    {
     "data": {
      "text/plain": [
       "array([[100,   0,   0, ...,   0,   9,   5],\n",
       "       [  7,   0,   0, ...,   0,   9,   5],\n",
       "       [  7,   0,   0, ...,   0,   9,   5],\n",
       "       ...,\n",
       "       [  6,   0,   0, ...,   0,  11,   6],\n",
       "       [  5,   0,   0, ...,   0,  10,   5],\n",
       "       [  6,   0,   0, ...,   0,  11,   6]])"
      ]
     },
     "execution_count": 20,
     "metadata": {},
     "output_type": "execute_result"
    }
   ],
   "source": [
    "#Convert Data to Integervalue\n",
    "\n",
    "w.astype(int)"
   ]
  },
  {
   "cell_type": "markdown",
   "id": "425d36eb",
   "metadata": {},
   "source": [
    "## 2-Vectorization Opearation"
   ]
  },
  {
   "cell_type": "code",
   "execution_count": 21,
   "id": "f6346e56",
   "metadata": {},
   "outputs": [
    {
     "data": {
      "text/plain": [
       "array([5, 5, 5, ..., 6, 5, 6])"
      ]
     },
     "execution_count": 21,
     "metadata": {},
     "output_type": "execute_result"
    }
   ],
   "source": [
    "# Increase wine Quality Score by 10\n",
    "\n",
    "v=w[:,11]\n",
    "s=v.astype(int)\n",
    "s"
   ]
  },
  {
   "cell_type": "code",
   "execution_count": 22,
   "id": "5c1dc805",
   "metadata": {},
   "outputs": [],
   "source": [
    "s+=10\n"
   ]
  },
  {
   "cell_type": "code",
   "execution_count": 23,
   "id": "e35c9f2b",
   "metadata": {},
   "outputs": [
    {
     "name": "stdout",
     "output_type": "stream",
     "text": [
      "[array([15, 15, 15, ..., 16, 15, 16])]\n"
     ]
    }
   ],
   "source": [
    "print([s])"
   ]
  },
  {
   "cell_type": "code",
   "execution_count": 24,
   "id": "60f151f7",
   "metadata": {},
   "outputs": [
    {
     "data": {
      "text/plain": [
       "array([28.2, 29.4, 29.4, ..., 33. , 30.6, 33. ])"
      ]
     },
     "execution_count": 24,
     "metadata": {},
     "output_type": "execute_result"
    }
   ],
   "source": [
    "# Multiply data by 3 times\n",
    "\n",
    "m=w[:,10]*3\n",
    "m"
   ]
  },
  {
   "cell_type": "code",
   "execution_count": 25,
   "id": "a942a9de",
   "metadata": {},
   "outputs": [
    {
     "data": {
      "text/plain": [
       "array([10., 10., 10., ..., 12., 10., 12.])"
      ]
     },
     "execution_count": 25,
     "metadata": {},
     "output_type": "execute_result"
    }
   ],
   "source": [
    "#add Quality by it self\n",
    "\n",
    "add=v+v\n",
    "add"
   ]
  },
  {
   "cell_type": "code",
   "execution_count": 26,
   "id": "8a87648f",
   "metadata": {},
   "outputs": [
    {
     "data": {
      "text/plain": [
       "array([423., 441., 441., ..., 528., 459., 528.])"
      ]
     },
     "execution_count": 26,
     "metadata": {},
     "output_type": "execute_result"
    }
   ],
   "source": [
    "# Multiply 11th and 12th colums\n",
    "\n",
    "mul=s*m\n",
    "mul"
   ]
  },
  {
   "cell_type": "markdown",
   "id": "5aa9cbaa",
   "metadata": {},
   "source": [
    "## 3-Broadcasting"
   ]
  },
  {
   "cell_type": "code",
   "execution_count": 27,
   "id": "44faa8ed",
   "metadata": {},
   "outputs": [
    {
     "data": {
      "text/plain": [
       "array([0.44243305, 0.79434499, 0.34734571, 0.49321355, 0.97687396,\n",
       "       0.4054912 , 0.68387849, 0.13918862, 0.06135908, 0.38906348,\n",
       "       0.85517212, 0.28752534])"
      ]
     },
     "execution_count": 27,
     "metadata": {},
     "output_type": "execute_result"
    }
   ],
   "source": [
    "# Add every row of winne Data with a random array of Values\n",
    "\n",
    "ran=num.random.rand(12)\n",
    "ran"
   ]
  },
  {
   "cell_type": "code",
   "execution_count": 28,
   "id": "a3c999dc",
   "metadata": {},
   "outputs": [
    {
     "data": {
      "text/plain": [
       "array([[100.44243305,   1.49434499,   0.34734571, ...,   0.94906348,\n",
       "         10.25517212,   5.28752534],\n",
       "       [  8.24243305,   1.67434499,   0.34734571, ...,   1.06906348,\n",
       "         10.65517212,   5.28752534],\n",
       "       [  8.24243305,   1.55434499,   0.38734571, ...,   1.03906348,\n",
       "         10.65517212,   5.28752534],\n",
       "       ...,\n",
       "       [  6.74243305,   1.30434499,   0.47734571, ...,   1.13906348,\n",
       "         11.85517212,   6.28752534],\n",
       "       [  6.34243305,   1.43934499,   0.46734571, ...,   1.09906348,\n",
       "         11.05517212,   5.28752534],\n",
       "       [  6.44243305,   1.10434499,   0.81734571, ...,   1.04906348,\n",
       "         11.85517212,   6.28752534]])"
      ]
     },
     "execution_count": 28,
     "metadata": {},
     "output_type": "execute_result"
    }
   ],
   "source": [
    "# Add wines and random array\n",
    "\n",
    "w+ran"
   ]
  }
 ],
 "metadata": {
  "kernelspec": {
   "display_name": "Python 3 (ipykernel)",
   "language": "python",
   "name": "python3"
  },
  "language_info": {
   "codemirror_mode": {
    "name": "ipython",
    "version": 3
   },
   "file_extension": ".py",
   "mimetype": "text/x-python",
   "name": "python",
   "nbconvert_exporter": "python",
   "pygments_lexer": "ipython3",
   "version": "3.9.12"
  }
 },
 "nbformat": 4,
 "nbformat_minor": 5
}
